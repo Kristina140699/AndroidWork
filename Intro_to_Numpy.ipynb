{
  "nbformat": 4,
  "nbformat_minor": 0,
  "metadata": {
    "colab": {
      "provenance": [],
      "authorship_tag": "ABX9TyN012qURNYpyf1x3sHUVaZv",
      "include_colab_link": true
    },
    "kernelspec": {
      "name": "python3",
      "display_name": "Python 3"
    },
    "language_info": {
      "name": "python"
    }
  },
  "cells": [
    {
      "cell_type": "markdown",
      "metadata": {
        "id": "view-in-github",
        "colab_type": "text"
      },
      "source": [
        "<a href=\"https://colab.research.google.com/github/Kristina140699/AndroidWork/blob/main/Intro_to_Numpy.ipynb\" target=\"_parent\"><img src=\"https://colab.research.google.com/assets/colab-badge.svg\" alt=\"Open In Colab\"/></a>"
      ]
    },
    {
      "cell_type": "code",
      "execution_count": null,
      "metadata": {
        "id": "EfU4EbArQaCK"
      },
      "outputs": [],
      "source": []
    },
    {
      "cell_type": "markdown",
      "source": [
        "# Numpy Arrays\n",
        "## Single Dimensional Array"
      ],
      "metadata": {
        "id": "Tog0oT7XQyf_"
      }
    },
    {
      "cell_type": "code",
      "source": [
        "import numpy as np\n",
        "n1 = np.array([10, 20, 30, 40, 50])\n",
        "n1"
      ],
      "metadata": {
        "colab": {
          "base_uri": "https://localhost:8080/"
        },
        "id": "mTxDHWTBQ8F0",
        "outputId": "3b876b3c-5230-464e-db99-14035eb5e947"
      },
      "execution_count": null,
      "outputs": [
        {
          "output_type": "execute_result",
          "data": {
            "text/plain": [
              "array([10, 20, 30, 40, 50])"
            ]
          },
          "metadata": {},
          "execution_count": 2
        }
      ]
    },
    {
      "cell_type": "code",
      "source": [
        "type(n1)"
      ],
      "metadata": {
        "colab": {
          "base_uri": "https://localhost:8080/"
        },
        "id": "1qAJS20mReAk",
        "outputId": "e7e8a850-578f-4488-cf06-23c8e8211375"
      },
      "execution_count": null,
      "outputs": [
        {
          "output_type": "execute_result",
          "data": {
            "text/plain": [
              "numpy.ndarray"
            ]
          },
          "metadata": {},
          "execution_count": 2
        }
      ]
    },
    {
      "cell_type": "markdown",
      "source": [
        "## Multi Dimensional Array"
      ],
      "metadata": {
        "id": "_hiHQf45Rg2Y"
      }
    },
    {
      "cell_type": "code",
      "source": [
        "n2 = np.array([[1,2,3,4,5],[11, 12, 13, 14, 15],[10, 20, 30, 40, 50]])\n",
        "n2"
      ],
      "metadata": {
        "id": "ev357ihURmTC",
        "colab": {
          "base_uri": "https://localhost:8080/"
        },
        "outputId": "6a61b9df-85c1-40bd-a83e-dc14e36789ce"
      },
      "execution_count": null,
      "outputs": [
        {
          "output_type": "execute_result",
          "data": {
            "text/plain": [
              "array([[ 1,  2,  3,  4,  5],\n",
              "       [11, 12, 13, 14, 15],\n",
              "       [10, 20, 30, 40, 50]])"
            ]
          },
          "metadata": {},
          "execution_count": 7
        }
      ]
    },
    {
      "cell_type": "code",
      "source": [
        "type(n2)"
      ],
      "metadata": {
        "id": "b5m23TyPR6xL",
        "colab": {
          "base_uri": "https://localhost:8080/"
        },
        "outputId": "9f5f0d53-54aa-4e62-b51e-2e467c560072"
      },
      "execution_count": null,
      "outputs": [
        {
          "output_type": "execute_result",
          "data": {
            "text/plain": [
              "numpy.ndarray"
            ]
          },
          "metadata": {},
          "execution_count": 8
        }
      ]
    },
    {
      "cell_type": "markdown",
      "source": [
        "## Zero Arrays"
      ],
      "metadata": {
        "id": "qCVmwB04nkNe"
      }
    },
    {
      "cell_type": "code",
      "source": [
        "n0 = np.zeros((5,2))\n",
        "n0"
      ],
      "metadata": {
        "colab": {
          "base_uri": "https://localhost:8080/"
        },
        "id": "5JSg8HJ-njS-",
        "outputId": "776d8d53-81e4-4b72-c8fb-73033c4f2d7c"
      },
      "execution_count": null,
      "outputs": [
        {
          "output_type": "execute_result",
          "data": {
            "text/plain": [
              "array([[0., 0.],\n",
              "       [0., 0.],\n",
              "       [0., 0.],\n",
              "       [0., 0.],\n",
              "       [0., 0.]])"
            ]
          },
          "metadata": {},
          "execution_count": 5
        }
      ]
    },
    {
      "cell_type": "markdown",
      "source": [
        "## Numpy array with same number"
      ],
      "metadata": {
        "id": "LGp-HK61o7MV"
      }
    },
    {
      "cell_type": "code",
      "source": [
        "n4 = np.full((2,3), 14)\n",
        "n4"
      ],
      "metadata": {
        "colab": {
          "base_uri": "https://localhost:8080/"
        },
        "id": "5pqVX9PDpDdm",
        "outputId": "52d3af06-b874-484d-8b66-4df965071a58"
      },
      "execution_count": null,
      "outputs": [
        {
          "output_type": "execute_result",
          "data": {
            "text/plain": [
              "array([[14, 14, 14],\n",
              "       [14, 14, 14]])"
            ]
          },
          "metadata": {},
          "execution_count": 7
        }
      ]
    },
    {
      "cell_type": "markdown",
      "source": [
        "## Numpy array within a range"
      ],
      "metadata": {
        "id": "FoPqFQNKrMT1"
      }
    },
    {
      "cell_type": "code",
      "source": [
        "n5 = np.arange(10, 20) #this prints all the numbers including 10 and excluding 20\n",
        "n5"
      ],
      "metadata": {
        "colab": {
          "base_uri": "https://localhost:8080/"
        },
        "id": "qb84YGBKn2Gv",
        "outputId": "6052e349-0c74-449b-f227-6db55c4aadee"
      },
      "execution_count": null,
      "outputs": [
        {
          "output_type": "execute_result",
          "data": {
            "text/plain": [
              "array([10, 11, 12, 13, 14, 15, 16, 17, 18, 19])"
            ]
          },
          "metadata": {},
          "execution_count": 9
        }
      ]
    },
    {
      "cell_type": "code",
      "source": [
        "n5 = np.arange(15, 65, 5) # here 5 is the step/ interval after which the numbers will be printed.\n",
        "n5"
      ],
      "metadata": {
        "colab": {
          "base_uri": "https://localhost:8080/"
        },
        "id": "KJCKeEi3rhFP",
        "outputId": "b35b1a15-b030-4501-d379-6c062ad0521b"
      },
      "execution_count": null,
      "outputs": [
        {
          "output_type": "execute_result",
          "data": {
            "text/plain": [
              "array([15, 20, 25, 30, 35, 40, 45, 50, 55, 60])"
            ]
          },
          "metadata": {},
          "execution_count": 10
        }
      ]
    },
    {
      "cell_type": "markdown",
      "source": [
        "## Numpy array with random numbers"
      ],
      "metadata": {
        "id": "rww_2rfWtZ5Z"
      }
    },
    {
      "cell_type": "code",
      "source": [
        "n6 = np.random.randint(50, 250, 5)\n",
        "n6"
      ],
      "metadata": {
        "colab": {
          "base_uri": "https://localhost:8080/"
        },
        "id": "l3NvX9GZtkjZ",
        "outputId": "3466fb0e-53d3-4b85-d074-4021b064ece5"
      },
      "execution_count": null,
      "outputs": [
        {
          "output_type": "execute_result",
          "data": {
            "text/plain": [
              "array([125, 209, 106, 188, 236])"
            ]
          },
          "metadata": {},
          "execution_count": 13
        }
      ]
    },
    {
      "cell_type": "markdown",
      "source": [
        "## Shape of Numpy array"
      ],
      "metadata": {
        "id": "IIWUNnBVx96v"
      }
    },
    {
      "cell_type": "code",
      "source": [
        "n7 = np.array([[1,2,3], [4,5,6]])\n",
        "n7"
      ],
      "metadata": {
        "colab": {
          "base_uri": "https://localhost:8080/"
        },
        "id": "c2DBLI4nzLe4",
        "outputId": "cb1dc998-fc29-4c39-8f8a-ddf8e4c156c1"
      },
      "execution_count": null,
      "outputs": [
        {
          "output_type": "execute_result",
          "data": {
            "text/plain": [
              "array([[1, 2, 3],\n",
              "       [4, 5, 6]])"
            ]
          },
          "metadata": {},
          "execution_count": 18
        }
      ]
    },
    {
      "cell_type": "code",
      "source": [
        "n7.shape"
      ],
      "metadata": {
        "colab": {
          "base_uri": "https://localhost:8080/"
        },
        "id": "pY-Lp0eA0AQl",
        "outputId": "7ac514c9-cf99-4844-a79e-d093fc8f9fee"
      },
      "execution_count": null,
      "outputs": [
        {
          "output_type": "execute_result",
          "data": {
            "text/plain": [
              "(2, 3)"
            ]
          },
          "metadata": {},
          "execution_count": 19
        }
      ]
    },
    {
      "cell_type": "code",
      "source": [
        "n7.shape = (3, 2)\n",
        "n7"
      ],
      "metadata": {
        "colab": {
          "base_uri": "https://localhost:8080/"
        },
        "id": "LQ3TWFZNzz69",
        "outputId": "2abb7860-dc85-471c-b6e3-f693424326c7"
      },
      "execution_count": null,
      "outputs": [
        {
          "output_type": "execute_result",
          "data": {
            "text/plain": [
              "array([[1, 2],\n",
              "       [3, 4],\n",
              "       [5, 6]])"
            ]
          },
          "metadata": {},
          "execution_count": 20
        }
      ]
    },
    {
      "cell_type": "markdown",
      "source": [
        "# Joining Numpy Arrays\n",
        "\n",
        "## Stacking\n",
        "\n",
        "\n",
        "1.   vSatck(): vertically stack the arrays. One on top of the another.\n",
        "2.   hStack(): horizontally stack the arrays. One after the another.\n",
        "3.   column_stack(): stacks each array column wise.\n",
        "\n",
        "\n"
      ],
      "metadata": {
        "id": "C0ciHWlN3weA"
      }
    },
    {
      "cell_type": "code",
      "source": [
        "import numpy as np"
      ],
      "metadata": {
        "id": "dkiCK6D933eB"
      },
      "execution_count": null,
      "outputs": []
    },
    {
      "cell_type": "code",
      "source": [
        "n1 = np.array([10, 20, 30])\n",
        "n2 = np.array([40, 50, 60])\n",
        "\n",
        "np.vstack((n1, n2))"
      ],
      "metadata": {
        "colab": {
          "base_uri": "https://localhost:8080/"
        },
        "id": "qTYnCO027Dyj",
        "outputId": "25e897f3-1561-4780-e300-699aedc6bf1d"
      },
      "execution_count": null,
      "outputs": [
        {
          "output_type": "execute_result",
          "data": {
            "text/plain": [
              "array([[10, 20, 30],\n",
              "       [40, 50, 60]])"
            ]
          },
          "metadata": {},
          "execution_count": 21
        }
      ]
    },
    {
      "cell_type": "code",
      "source": [
        "n1 = np.array([11, 12, 13])\n",
        "n2 = np.array([14,15, 16])\n",
        "\n",
        "np.hstack((n1, n2))"
      ],
      "metadata": {
        "id": "RcYcUDhk7To1",
        "colab": {
          "base_uri": "https://localhost:8080/"
        },
        "outputId": "125e7bee-b4b8-4bd1-89f7-eaf3da41aa5e"
      },
      "execution_count": null,
      "outputs": [
        {
          "output_type": "execute_result",
          "data": {
            "text/plain": [
              "array([11, 12, 13, 14, 15, 16])"
            ]
          },
          "metadata": {},
          "execution_count": 22
        }
      ]
    },
    {
      "cell_type": "code",
      "source": [
        "n1 = np.array([1, 2, 3, 4])\n",
        "n2 = np.array([5, 6, 7, 8])\n",
        "\n",
        "np.column_stack((n1, n2))"
      ],
      "metadata": {
        "colab": {
          "base_uri": "https://localhost:8080/"
        },
        "id": "a6s4iadg9q08",
        "outputId": "c7c2c98c-9f97-49a8-8135-1e290c940cd8"
      },
      "execution_count": null,
      "outputs": [
        {
          "output_type": "execute_result",
          "data": {
            "text/plain": [
              "array([[1, 5],\n",
              "       [2, 6],\n",
              "       [3, 7],\n",
              "       [4, 8]])"
            ]
          },
          "metadata": {},
          "execution_count": 23
        }
      ]
    },
    {
      "cell_type": "markdown",
      "source": [
        "# Numpy Intersection & Difference\n",
        "## Interection:\n",
        "Finds the common elements between the arrays.\n",
        "\n",
        "## Difference:\n",
        "Finds the elements that are available on the first array and not available in the second array."
      ],
      "metadata": {
        "id": "lbAw90ed-2AI"
      }
    },
    {
      "cell_type": "code",
      "source": [
        "import numpy as np"
      ],
      "metadata": {
        "id": "YoAC0GkT9-Cs"
      },
      "execution_count": null,
      "outputs": []
    },
    {
      "cell_type": "code",
      "source": [
        "n1 = np.array([10, 20, 30, 40, 50, 60])\n",
        "n2 = np.array([50, 60, 70, 80, 90])"
      ],
      "metadata": {
        "id": "bOjOTNlXB-s2"
      },
      "execution_count": null,
      "outputs": []
    },
    {
      "cell_type": "code",
      "source": [
        "np.intersect1d(n1, n2)"
      ],
      "metadata": {
        "colab": {
          "base_uri": "https://localhost:8080/"
        },
        "id": "D_FukPo4CO1W",
        "outputId": "e04d8091-e71f-4ba0-9ad8-686278045543"
      },
      "execution_count": null,
      "outputs": [
        {
          "output_type": "execute_result",
          "data": {
            "text/plain": [
              "array([50, 60])"
            ]
          },
          "metadata": {},
          "execution_count": 27
        }
      ]
    },
    {
      "cell_type": "code",
      "source": [
        "np.setdiff1d(n1, n2)"
      ],
      "metadata": {
        "colab": {
          "base_uri": "https://localhost:8080/"
        },
        "id": "hDoJuRHWCX_9",
        "outputId": "3ef9de21-4bbc-41d7-aa7e-f5cd2a1c14e3"
      },
      "execution_count": null,
      "outputs": [
        {
          "output_type": "execute_result",
          "data": {
            "text/plain": [
              "array([10, 20, 30, 40])"
            ]
          },
          "metadata": {},
          "execution_count": 28
        }
      ]
    },
    {
      "cell_type": "code",
      "source": [
        "np.setdiff1d(n2, n1)"
      ],
      "metadata": {
        "colab": {
          "base_uri": "https://localhost:8080/"
        },
        "id": "Ax9WmSdbCdy1",
        "outputId": "686918e9-0586-42c4-8d6b-476ec4312b4e"
      },
      "execution_count": null,
      "outputs": [
        {
          "output_type": "execute_result",
          "data": {
            "text/plain": [
              "array([70, 80, 90])"
            ]
          },
          "metadata": {},
          "execution_count": 29
        }
      ]
    },
    {
      "cell_type": "markdown",
      "source": [
        "# Numpy Array Mathematics\n",
        "\n",
        "\n",
        "1.   Addition\n",
        "2.   Subtraction\n",
        "3.   Multiplication\n",
        "\n",
        "\n"
      ],
      "metadata": {
        "id": "Q9n8PsGhD8-g"
      }
    },
    {
      "cell_type": "code",
      "source": [
        "n1 = np.array([10, 20, 30, 40, 50])\n",
        "n2 = np.array([60, 70, 80, 90, 100])\n",
        "\n",
        "np.sum([n1, n2])"
      ],
      "metadata": {
        "colab": {
          "base_uri": "https://localhost:8080/"
        },
        "id": "iAQBhgDAEbGG",
        "outputId": "cf3ca5c7-bf71-46ac-d09f-710f5fb475b4"
      },
      "execution_count": null,
      "outputs": [
        {
          "output_type": "execute_result",
          "data": {
            "text/plain": [
              "550"
            ]
          },
          "metadata": {},
          "execution_count": 30
        }
      ]
    },
    {
      "cell_type": "code",
      "source": [
        "np.sum([n1,n2], axis=0) #adds up vertically"
      ],
      "metadata": {
        "colab": {
          "base_uri": "https://localhost:8080/"
        },
        "id": "XuVSPh5uE61a",
        "outputId": "3eae2182-eb16-46a9-b2b4-c1cfedb9e6a2"
      },
      "execution_count": null,
      "outputs": [
        {
          "output_type": "execute_result",
          "data": {
            "text/plain": [
              "array([ 70,  90, 110, 130, 150])"
            ]
          },
          "metadata": {},
          "execution_count": 31
        }
      ]
    },
    {
      "cell_type": "code",
      "source": [
        "np.sum([n1,n2], axis=1) #adds up horizontally, elements within the same array"
      ],
      "metadata": {
        "colab": {
          "base_uri": "https://localhost:8080/"
        },
        "id": "-5fTsJ6IFMGs",
        "outputId": "efff5f78-47c5-441c-977c-a7842a4b2306"
      },
      "execution_count": null,
      "outputs": [
        {
          "output_type": "execute_result",
          "data": {
            "text/plain": [
              "array([150, 400])"
            ]
          },
          "metadata": {},
          "execution_count": 32
        }
      ]
    },
    {
      "cell_type": "markdown",
      "source": [
        "## Scaler Arithmetics"
      ],
      "metadata": {
        "id": "zSJ_Eac-IQBd"
      }
    },
    {
      "cell_type": "code",
      "source": [
        "n1 = np.array([10, 20, 30, 40, 50])"
      ],
      "metadata": {
        "id": "uhUJBZFXFUQE"
      },
      "execution_count": null,
      "outputs": []
    },
    {
      "cell_type": "code",
      "source": [
        "n1+1"
      ],
      "metadata": {
        "colab": {
          "base_uri": "https://localhost:8080/"
        },
        "id": "eOzvKrsjMN2W",
        "outputId": "5070fa48-dd0e-4d9a-b4eb-da2606d487b0"
      },
      "execution_count": null,
      "outputs": [
        {
          "output_type": "execute_result",
          "data": {
            "text/plain": [
              "array([11, 21, 31, 41, 51])"
            ]
          },
          "metadata": {},
          "execution_count": 3
        }
      ]
    },
    {
      "cell_type": "code",
      "source": [
        "n1*2"
      ],
      "metadata": {
        "colab": {
          "base_uri": "https://localhost:8080/"
        },
        "id": "nmmuxNOpFVv8",
        "outputId": "c3245238-4ae2-45ac-f5b8-7edd1ca3d80e"
      },
      "execution_count": null,
      "outputs": [
        {
          "output_type": "execute_result",
          "data": {
            "text/plain": [
              "array([ 20,  40,  60,  80, 100])"
            ]
          },
          "metadata": {},
          "execution_count": 4
        }
      ]
    },
    {
      "cell_type": "code",
      "source": [
        "n1-3"
      ],
      "metadata": {
        "colab": {
          "base_uri": "https://localhost:8080/"
        },
        "id": "HCR6prl9Mb94",
        "outputId": "fe47fe35-53af-49ab-8580-be8d8bbd70a5"
      },
      "execution_count": null,
      "outputs": [
        {
          "output_type": "execute_result",
          "data": {
            "text/plain": [
              "array([ 7, 17, 27, 37, 47])"
            ]
          },
          "metadata": {},
          "execution_count": 5
        }
      ]
    },
    {
      "cell_type": "code",
      "source": [
        "n1/10"
      ],
      "metadata": {
        "colab": {
          "base_uri": "https://localhost:8080/"
        },
        "id": "dBC1RBW8MhG7",
        "outputId": "93715db4-7b4d-4589-e637-bd0c6c6e98d1"
      },
      "execution_count": null,
      "outputs": [
        {
          "output_type": "execute_result",
          "data": {
            "text/plain": [
              "array([1., 2., 3., 4., 5.])"
            ]
          },
          "metadata": {},
          "execution_count": 6
        }
      ]
    },
    {
      "cell_type": "markdown",
      "source": [
        "## Math Functions\n",
        "\n",
        "1. mean() - mean\n",
        "2. std() - standard deviation\n",
        "3. median() - median"
      ],
      "metadata": {
        "id": "APic4-Z7y1NU"
      }
    },
    {
      "cell_type": "code",
      "source": [
        "n1 = np.array([10, 14, 23, 64, 78, 48, 62, 31])"
      ],
      "metadata": {
        "id": "XhXv1Y0jy0vF"
      },
      "execution_count": null,
      "outputs": []
    },
    {
      "cell_type": "code",
      "source": [
        "np.mean(n1)"
      ],
      "metadata": {
        "colab": {
          "base_uri": "https://localhost:8080/"
        },
        "id": "LrrNrdBbz2QQ",
        "outputId": "943ef6d4-1519-4f24-e8a6-dbed4a9e4d2c"
      },
      "execution_count": null,
      "outputs": [
        {
          "output_type": "execute_result",
          "data": {
            "text/plain": [
              "41.25"
            ]
          },
          "metadata": {},
          "execution_count": 8
        }
      ]
    },
    {
      "cell_type": "code",
      "source": [
        "np.std(n1)"
      ],
      "metadata": {
        "colab": {
          "base_uri": "https://localhost:8080/"
        },
        "id": "XtnLW2_Bz6I0",
        "outputId": "211f334a-70a8-4f64-df36-8e8e17d427b7"
      },
      "execution_count": null,
      "outputs": [
        {
          "output_type": "execute_result",
          "data": {
            "text/plain": [
              "23.72103496898902"
            ]
          },
          "metadata": {},
          "execution_count": 9
        }
      ]
    },
    {
      "cell_type": "code",
      "source": [
        "np.median(n1)"
      ],
      "metadata": {
        "colab": {
          "base_uri": "https://localhost:8080/"
        },
        "id": "ewY9-S0Sz9zV",
        "outputId": "5f934027-fc06-4776-98b3-77552f58ca14"
      },
      "execution_count": null,
      "outputs": [
        {
          "output_type": "execute_result",
          "data": {
            "text/plain": [
              "39.5"
            ]
          },
          "metadata": {},
          "execution_count": 10
        }
      ]
    },
    {
      "cell_type": "markdown",
      "source": [
        "## Saving and Loading Numpy Array\n",
        "\n",
        "We can save the numpy arrays with any name of our choice and load it back with the object_name.npy."
      ],
      "metadata": {
        "id": "vO3QLs2x0Otm"
      }
    },
    {
      "cell_type": "code",
      "source": [
        "import numpy as np  #saving numpy array\n",
        "\n",
        "n1 = np.array([10, 20, 30, 40, 50, 60])\n",
        "np.save('numpy1', n1)"
      ],
      "metadata": {
        "id": "hWMuEbLi0VDX"
      },
      "execution_count": 20,
      "outputs": []
    },
    {
      "cell_type": "code",
      "source": [
        "n2 = np.load('numpy1.npy')  #loading numpy array\n",
        "n2"
      ],
      "metadata": {
        "colab": {
          "base_uri": "https://localhost:8080/"
        },
        "id": "89Q6S-Fk05FU",
        "outputId": "8fb981f9-8a00-47df-edf9-b5da92d8b6da"
      },
      "execution_count": null,
      "outputs": [
        {
          "output_type": "execute_result",
          "data": {
            "text/plain": [
              "array([10, 20, 30, 40, 50, 60])"
            ]
          },
          "metadata": {},
          "execution_count": 12
        }
      ]
    },
    {
      "cell_type": "markdown",
      "source": [
        "## Numpy Broad casting\n",
        "\n",
        "For broadcating to happen one of the following conditions needs to be satisfied.\n",
        "\n",
        "1. Dimensions must be same. Dimensions of both the arrays must be same.\n",
        "\n",
        "2. When the dimensions are not same we'll add trailing 1s to the shorter array. If this condition meets then we can broadcast across the other array."
      ],
      "metadata": {
        "id": "k3rytQtE4v9J"
      }
    },
    {
      "cell_type": "code",
      "source": [
        "n1 = np.array([10, 20, 30, 40, 50, 60])\n",
        "n2 = np.array([70, 80, 90,])\n",
        "\n",
        "# n1+n2 #This will give and  error!\n",
        "# operands could not be broadcast together with shapes (6,) (3,)"
      ],
      "metadata": {
        "colab": {
          "base_uri": "https://localhost:8080/",
          "height": 176
        },
        "id": "JTrENE9EBFNN",
        "outputId": "1e5a3731-13ad-4800-8f29-534c6a962cd1"
      },
      "execution_count": null,
      "outputs": [
        {
          "output_type": "error",
          "ename": "ValueError",
          "evalue": "operands could not be broadcast together with shapes (6,) (3,) ",
          "traceback": [
            "\u001b[0;31m---------------------------------------------------------------------------\u001b[0m",
            "\u001b[0;31mValueError\u001b[0m                                Traceback (most recent call last)",
            "\u001b[0;32m<ipython-input-19-4a3af4e54569>\u001b[0m in \u001b[0;36m<cell line: 4>\u001b[0;34m()\u001b[0m\n\u001b[1;32m      2\u001b[0m \u001b[0mn2\u001b[0m \u001b[0;34m=\u001b[0m \u001b[0mnp\u001b[0m\u001b[0;34m.\u001b[0m\u001b[0marray\u001b[0m\u001b[0;34m(\u001b[0m\u001b[0;34m[\u001b[0m\u001b[0;36m70\u001b[0m\u001b[0;34m,\u001b[0m \u001b[0;36m80\u001b[0m\u001b[0;34m,\u001b[0m \u001b[0;36m90\u001b[0m\u001b[0;34m,\u001b[0m\u001b[0;34m]\u001b[0m\u001b[0;34m)\u001b[0m\u001b[0;34m\u001b[0m\u001b[0;34m\u001b[0m\u001b[0m\n\u001b[1;32m      3\u001b[0m \u001b[0;34m\u001b[0m\u001b[0m\n\u001b[0;32m----> 4\u001b[0;31m \u001b[0mn1\u001b[0m\u001b[0;34m+\u001b[0m\u001b[0mn2\u001b[0m \u001b[0;31m#This will give and  error!\u001b[0m\u001b[0;34m\u001b[0m\u001b[0;34m\u001b[0m\u001b[0m\n\u001b[0m",
            "\u001b[0;31mValueError\u001b[0m: operands could not be broadcast together with shapes (6,) (3,) "
          ]
        }
      ]
    },
    {
      "cell_type": "code",
      "source": [
        "n1 = np.array([[1,2,3], [4, 5, 6], [7, 8, 9]])\n",
        "n2 = np.array([10, 20, 30])"
      ],
      "metadata": {
        "id": "sFM4o4sm53mx"
      },
      "execution_count": 21,
      "outputs": []
    },
    {
      "cell_type": "code",
      "source": [
        "n1.shape, n2.shape"
      ],
      "metadata": {
        "colab": {
          "base_uri": "https://localhost:8080/"
        },
        "id": "zjsghMq7Ai8y",
        "outputId": "c7d6ee24-7a3e-4061-b962-06509afb5373"
      },
      "execution_count": 22,
      "outputs": [
        {
          "output_type": "execute_result",
          "data": {
            "text/plain": [
              "((3, 3), (3,))"
            ]
          },
          "metadata": {},
          "execution_count": 22
        }
      ]
    },
    {
      "cell_type": "code",
      "source": [
        "n1+n2"
      ],
      "metadata": {
        "colab": {
          "base_uri": "https://localhost:8080/"
        },
        "id": "dVumVViRAoY3",
        "outputId": "267b9ca6-2c6e-4be3-9038-9c554229bab9"
      },
      "execution_count": 23,
      "outputs": [
        {
          "output_type": "execute_result",
          "data": {
            "text/plain": [
              "array([[11, 22, 33],\n",
              "       [14, 25, 36],\n",
              "       [17, 28, 39]])"
            ]
          },
          "metadata": {},
          "execution_count": 23
        }
      ]
    },
    {
      "cell_type": "code",
      "source": [
        "n1 = np.array([1,2,3])\n",
        "n1.shape = (3,1)\n",
        "n1"
      ],
      "metadata": {
        "colab": {
          "base_uri": "https://localhost:8080/"
        },
        "id": "tLnrVAuTGa-O",
        "outputId": "ebf7700c-f095-42d0-fd87-5f7ab7e74ce1"
      },
      "execution_count": 24,
      "outputs": [
        {
          "output_type": "execute_result",
          "data": {
            "text/plain": [
              "array([[1],\n",
              "       [2],\n",
              "       [3]])"
            ]
          },
          "metadata": {},
          "execution_count": 24
        }
      ]
    },
    {
      "cell_type": "code",
      "source": [
        "n2 = np.array([4,5,6])\n",
        "n2.shape = (1,3)\n",
        "n2"
      ],
      "metadata": {
        "colab": {
          "base_uri": "https://localhost:8080/"
        },
        "id": "9m_41pQcGryE",
        "outputId": "822f80df-36a6-408c-e2b8-96b51e7d1a34"
      },
      "execution_count": 25,
      "outputs": [
        {
          "output_type": "execute_result",
          "data": {
            "text/plain": [
              "array([[4, 5, 6]])"
            ]
          },
          "metadata": {},
          "execution_count": 25
        }
      ]
    },
    {
      "cell_type": "code",
      "source": [
        "n1+n2"
      ],
      "metadata": {
        "colab": {
          "base_uri": "https://localhost:8080/"
        },
        "id": "xy3oeb9_G1ln",
        "outputId": "352e6e7e-992d-4659-93a8-c3e36d8dc20f"
      },
      "execution_count": 26,
      "outputs": [
        {
          "output_type": "execute_result",
          "data": {
            "text/plain": [
              "array([[5, 6, 7],\n",
              "       [6, 7, 8],\n",
              "       [7, 8, 9]])"
            ]
          },
          "metadata": {},
          "execution_count": 26
        }
      ]
    },
    {
      "cell_type": "markdown",
      "source": [
        "## Numpy Matrices"
      ],
      "metadata": {
        "id": "olWu7ESyHopV"
      }
    },
    {
      "cell_type": "code",
      "source": [
        "n1 = np.array([[1,2,3], [4,5,6], [7,8,9]])\n",
        "n1"
      ],
      "metadata": {
        "colab": {
          "base_uri": "https://localhost:8080/"
        },
        "id": "3JSpmPqXHyUw",
        "outputId": "6a26fb5f-837c-4159-9e55-feea6b8774be"
      },
      "execution_count": 30,
      "outputs": [
        {
          "output_type": "execute_result",
          "data": {
            "text/plain": [
              "array([[1, 2, 3],\n",
              "       [4, 5, 6],\n",
              "       [7, 8, 9]])"
            ]
          },
          "metadata": {},
          "execution_count": 30
        }
      ]
    },
    {
      "cell_type": "code",
      "source": [
        "n1[0] # accessing the rows"
      ],
      "metadata": {
        "colab": {
          "base_uri": "https://localhost:8080/"
        },
        "id": "t-Ev9GlIJeNv",
        "outputId": "acb3d64f-bc54-476d-f27f-58ab2e67ec8e"
      },
      "execution_count": 31,
      "outputs": [
        {
          "output_type": "execute_result",
          "data": {
            "text/plain": [
              "array([1, 2, 3])"
            ]
          },
          "metadata": {},
          "execution_count": 31
        }
      ]
    },
    {
      "cell_type": "code",
      "source": [
        "n1[1]"
      ],
      "metadata": {
        "colab": {
          "base_uri": "https://localhost:8080/"
        },
        "id": "vWLgk8qKJj4r",
        "outputId": "962b0992-6432-437b-dc0a-0e942a4da060"
      },
      "execution_count": 33,
      "outputs": [
        {
          "output_type": "execute_result",
          "data": {
            "text/plain": [
              "array([4, 5, 6])"
            ]
          },
          "metadata": {},
          "execution_count": 33
        }
      ]
    },
    {
      "cell_type": "code",
      "source": [
        "n1[:, 2] # accessing the columns"
      ],
      "metadata": {
        "colab": {
          "base_uri": "https://localhost:8080/"
        },
        "id": "xLmEKP68JmmZ",
        "outputId": "e5a3a72e-51a7-401a-ed77-73a66e1ea754"
      },
      "execution_count": 32,
      "outputs": [
        {
          "output_type": "execute_result",
          "data": {
            "text/plain": [
              "array([3, 6, 9])"
            ]
          },
          "metadata": {},
          "execution_count": 32
        }
      ]
    },
    {
      "cell_type": "code",
      "source": [
        "n1[1,1]"
      ],
      "metadata": {
        "colab": {
          "base_uri": "https://localhost:8080/"
        },
        "id": "464UHGQGJsd_",
        "outputId": "83cafaab-644f-40f6-f33e-c0346ffd8f16"
      },
      "execution_count": 34,
      "outputs": [
        {
          "output_type": "execute_result",
          "data": {
            "text/plain": [
              "5"
            ]
          },
          "metadata": {},
          "execution_count": 34
        }
      ]
    },
    {
      "cell_type": "code",
      "source": [
        "n1[2,2]"
      ],
      "metadata": {
        "colab": {
          "base_uri": "https://localhost:8080/"
        },
        "id": "LNx3lFPDJ7hZ",
        "outputId": "0092dc88-3452-4391-fc50-7b5ce3626398"
      },
      "execution_count": 35,
      "outputs": [
        {
          "output_type": "execute_result",
          "data": {
            "text/plain": [
              "9"
            ]
          },
          "metadata": {},
          "execution_count": 35
        }
      ]
    },
    {
      "cell_type": "markdown",
      "source": [
        "## Transporse of a Matrix"
      ],
      "metadata": {
        "id": "c85U0n2IKN4v"
      }
    },
    {
      "cell_type": "code",
      "source": [
        "n1"
      ],
      "metadata": {
        "colab": {
          "base_uri": "https://localhost:8080/"
        },
        "id": "nL-Q-lxoKR7D",
        "outputId": "e16ff99e-a760-4a21-f98d-f9552cb6f495"
      },
      "execution_count": 36,
      "outputs": [
        {
          "output_type": "execute_result",
          "data": {
            "text/plain": [
              "array([[1, 2, 3],\n",
              "       [4, 5, 6],\n",
              "       [7, 8, 9]])"
            ]
          },
          "metadata": {},
          "execution_count": 36
        }
      ]
    },
    {
      "cell_type": "code",
      "source": [
        "n1.transpose()"
      ],
      "metadata": {
        "colab": {
          "base_uri": "https://localhost:8080/"
        },
        "id": "utfA9inYKVLL",
        "outputId": "e2976d20-a9d3-4c4c-9a6b-34d4c5710f7c"
      },
      "execution_count": 37,
      "outputs": [
        {
          "output_type": "execute_result",
          "data": {
            "text/plain": [
              "array([[1, 4, 7],\n",
              "       [2, 5, 8],\n",
              "       [3, 6, 9]])"
            ]
          },
          "metadata": {},
          "execution_count": 37
        }
      ]
    },
    {
      "cell_type": "markdown",
      "source": [
        "## Numpy Matrix Multiplication"
      ],
      "metadata": {
        "id": "6fbYHklaKbNU"
      }
    },
    {
      "cell_type": "code",
      "source": [
        "n1"
      ],
      "metadata": {
        "colab": {
          "base_uri": "https://localhost:8080/"
        },
        "id": "V_l-Ijf-Kfgv",
        "outputId": "f39d1ccd-0836-4fa2-9383-c423dadff969"
      },
      "execution_count": 38,
      "outputs": [
        {
          "output_type": "execute_result",
          "data": {
            "text/plain": [
              "array([[1, 2, 3],\n",
              "       [4, 5, 6],\n",
              "       [7, 8, 9]])"
            ]
          },
          "metadata": {},
          "execution_count": 38
        }
      ]
    },
    {
      "cell_type": "code",
      "source": [
        "n2 = np.array([[4,5,6], [9, 8, 7], [1, 0, 9]])\n",
        "n2"
      ],
      "metadata": {
        "colab": {
          "base_uri": "https://localhost:8080/"
        },
        "id": "uvT8SiqKKkZc",
        "outputId": "cf95532c-6337-480e-80d0-ff598e4752c9"
      },
      "execution_count": 39,
      "outputs": [
        {
          "output_type": "execute_result",
          "data": {
            "text/plain": [
              "array([[4, 5, 6],\n",
              "       [9, 8, 7],\n",
              "       [1, 0, 9]])"
            ]
          },
          "metadata": {},
          "execution_count": 39
        }
      ]
    },
    {
      "cell_type": "markdown",
      "source": [
        "## n1.dot(n2) != n2.dot(n1)"
      ],
      "metadata": {
        "id": "4nIIt8BrLGsF"
      }
    },
    {
      "cell_type": "code",
      "source": [
        "n1.dot(n2)"
      ],
      "metadata": {
        "colab": {
          "base_uri": "https://localhost:8080/"
        },
        "id": "AZsDzMEiKx0W",
        "outputId": "63c285a6-e117-4d63-9436-f55ab6a04354"
      },
      "execution_count": 40,
      "outputs": [
        {
          "output_type": "execute_result",
          "data": {
            "text/plain": [
              "array([[ 25,  21,  47],\n",
              "       [ 67,  60, 113],\n",
              "       [109,  99, 179]])"
            ]
          },
          "metadata": {},
          "execution_count": 40
        }
      ]
    },
    {
      "cell_type": "code",
      "source": [
        "n2.dot(n1)"
      ],
      "metadata": {
        "colab": {
          "base_uri": "https://localhost:8080/"
        },
        "id": "HiCJhfM3K2XN",
        "outputId": "36a03755-5545-40b2-997d-395464d872d7"
      },
      "execution_count": 41,
      "outputs": [
        {
          "output_type": "execute_result",
          "data": {
            "text/plain": [
              "array([[ 66,  81,  96],\n",
              "       [ 90, 114, 138],\n",
              "       [ 64,  74,  84]])"
            ]
          },
          "metadata": {},
          "execution_count": 41
        }
      ]
    }
  ]
}